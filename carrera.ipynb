{
 "cells": [
  {
   "cell_type": "markdown",
   "metadata": {},
   "source": [
    "Se trata de elaborar un programa Orientado a Objetos para simular una \n",
    "carrera de hasta 4 carros. Cada carro tiene potencia inicial 10, sus cuatro \n",
    "ruedas y dos farolas. La pista de 100 casillas es recorrida por cada carro\n",
    "utilizando para avanzar un dado especial cuyo número de caras corresponderá\n",
    "a la potencia del carro. A lo largo de la pista se deben distribuir\n",
    "aleatoriamente 2 huecos, 4 postes y 3 puntillas, un hueco hará que el carro\n",
    "quede con la mitad de su potencia actual, un poste quebrará una farola y\n",
    "se pierde un punto de potencia, una puntilla pincha una rueda perdiendo 2\n",
    "puntos de potencia (la potencia mínima es de 1), también en la pista se\n",
    "deben colocar 3 talleres que harán que el carro recupere todas sus\n",
    "características y toda su potencia.  Ganará el primer vehículo en llegar\n",
    "a la meta (casilla 100)"
   ]
  },
  {
   "cell_type": "markdown",
   "metadata": {},
   "source": [
    "el carro:\n",
    "\n",
    "\n",
    "\n",
    "\n",
    "pendiente la condicion de \"el minimo es 1\""
   ]
  },
  {
   "cell_type": "code",
   "execution_count": 2,
   "metadata": {},
   "outputs": [
    {
     "name": "stdout",
     "output_type": "stream",
     "text": [
      "10\n"
     ]
    }
   ],
   "source": [
    "class carro:\n",
    "    def __init__(self,ruedas=4,farolas=2):\n",
    "        self.ruedas=ruedas\n",
    "        self.farolas = farolas\n",
    "    def potencia(self):\n",
    "        return self.ruedas*2+self.farolas\n",
    "        \n",
    "    def choque(self,tipo):\n",
    "        if (self.ruedas>-0 and self.farolas>0):\n",
    "            if tipo==1:\n",
    "                self.ruedas//=2\n",
    "                self.farolas//=2\n",
    "            elif tipo==2:\n",
    "                self.farolas-=1\n",
    "            elif tipo==3:\n",
    "                self.ruedas-=1\n",
    "\n",
    "carro1 = carro()\n",
    "print(carro1.potencia())"
   ]
  },
  {
   "cell_type": "markdown",
   "metadata": {},
   "source": [
    "la siguiente es la pista, que falta practicamente toda"
   ]
  },
  {
   "cell_type": "code",
   "execution_count": 2,
   "metadata": {},
   "outputs": [
    {
     "name": "stdout",
     "output_type": "stream",
     "text": [
      "['____________________________________________________________________________________________________', '____________________________________________________________________________________________________', '____________________________________________________________________________________________________', '____________________________________________________________________________________________________', '____________________________________________________________________________________________________']\n"
     ]
    }
   ],
   "source": [
    "n=5\n",
    "\n",
    "print([\"\".join([\"_\" for i in range(100)]) for i in range(n)])"
   ]
  },
  {
   "cell_type": "markdown",
   "metadata": {},
   "source": [
    "la funcion que los une a ambos:"
   ]
  },
  {
   "cell_type": "code",
   "execution_count": null,
   "metadata": {},
   "outputs": [],
   "source": [
    "Uwu"
   ]
  }
 ],
 "metadata": {
  "interpreter": {
   "hash": "916dbcbb3f70747c44a77c7bcd40155683ae19c65e1c03b4aa3499c5328201f1"
  },
  "kernelspec": {
   "display_name": "Python 3.9.2 64-bit",
   "language": "python",
   "name": "python3"
  },
  "language_info": {
   "codemirror_mode": {
    "name": "ipython",
    "version": 3
   },
   "file_extension": ".py",
   "mimetype": "text/x-python",
   "name": "python",
   "nbconvert_exporter": "python",
   "pygments_lexer": "ipython3",
   "version": "3.9.2"
  },
  "orig_nbformat": 4
 },
 "nbformat": 4,
 "nbformat_minor": 2
}
